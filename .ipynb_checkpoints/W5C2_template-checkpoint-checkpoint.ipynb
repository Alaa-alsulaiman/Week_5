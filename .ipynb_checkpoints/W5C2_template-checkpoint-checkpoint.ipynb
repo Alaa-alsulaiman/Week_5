{
 "cells": [
  {
   "cell_type": "code",
   "execution_count": 3,
   "id": "340fc877-2a30-4131-a7fd-8d6ee02b3b7c",
   "metadata": {},
   "outputs": [
    {
     "name": "stdout",
     "output_type": "stream",
     "text": [
      "Collecting yfinance\n",
      "  Downloading yfinance-0.1.64.tar.gz (26 kB)\n",
      "Requirement already satisfied: pandas>=0.24 in c:\\users\\user\\anaconda3\\lib\\site-packages (from yfinance) (1.2.4)\n",
      "Requirement already satisfied: numpy>=1.15 in c:\\users\\user\\anaconda3\\lib\\site-packages (from yfinance) (1.20.1)\n",
      "Requirement already satisfied: requests>=2.20 in c:\\users\\user\\anaconda3\\lib\\site-packages (from yfinance) (2.25.1)\n",
      "Collecting multitasking>=0.0.7\n",
      "  Downloading multitasking-0.0.9.tar.gz (8.1 kB)\n",
      "Requirement already satisfied: lxml>=4.5.1 in c:\\users\\user\\anaconda3\\lib\\site-packages (from yfinance) (4.6.3)\n",
      "Requirement already satisfied: pytz>=2017.3 in c:\\users\\user\\anaconda3\\lib\\site-packages (from pandas>=0.24->yfinance) (2021.1)\n",
      "Requirement already satisfied: python-dateutil>=2.7.3 in c:\\users\\user\\anaconda3\\lib\\site-packages (from pandas>=0.24->yfinance) (2.8.1)\n",
      "Requirement already satisfied: six>=1.5 in c:\\users\\user\\anaconda3\\lib\\site-packages (from python-dateutil>=2.7.3->pandas>=0.24->yfinance) (1.15.0)\n",
      "Requirement already satisfied: chardet<5,>=3.0.2 in c:\\users\\user\\anaconda3\\lib\\site-packages (from requests>=2.20->yfinance) (4.0.0)\n",
      "Requirement already satisfied: urllib3<1.27,>=1.21.1 in c:\\users\\user\\anaconda3\\lib\\site-packages (from requests>=2.20->yfinance) (1.26.4)\n",
      "Requirement already satisfied: certifi>=2017.4.17 in c:\\users\\user\\anaconda3\\lib\\site-packages (from requests>=2.20->yfinance) (2020.12.5)\n",
      "Requirement already satisfied: idna<3,>=2.5 in c:\\users\\user\\anaconda3\\lib\\site-packages (from requests>=2.20->yfinance) (2.10)\n",
      "Building wheels for collected packages: yfinance, multitasking\n",
      "  Building wheel for yfinance (setup.py): started\n",
      "  Building wheel for yfinance (setup.py): still running...\n",
      "  Building wheel for yfinance (setup.py): finished with status 'done'\n",
      "  Created wheel for yfinance: filename=yfinance-0.1.64-py2.py3-none-any.whl size=24095 sha256=9650659e198544c3570187af27d6723033aa7014329c30c24360ab9b48086d83\n",
      "  Stored in directory: c:\\users\\user\\appdata\\local\\pip\\cache\\wheels\\f9\\e9\\7e\\8b13db3bf3aeb5049d759e10702736fb96753089ac950fddc0\n",
      "  Building wheel for multitasking (setup.py): started\n",
      "  Building wheel for multitasking (setup.py): finished with status 'done'\n",
      "  Created wheel for multitasking: filename=multitasking-0.0.9-py3-none-any.whl size=8368 sha256=9ef501afe2279f455ae50a055fa7336f179653c32464fe85b37687e169fdaa6d\n",
      "  Stored in directory: c:\\users\\user\\appdata\\local\\pip\\cache\\wheels\\57\\6d\\a3\\a39b839cc75274d2acfb1c58bfead2f726c6577fe8c4723f13\n",
      "Successfully built yfinance multitasking\n",
      "Installing collected packages: multitasking, yfinance\n",
      "Successfully installed multitasking-0.0.9 yfinance-0.1.64\n"
     ]
    }
   ],
   "source": [
    "!pip install yfinance"
   ]
  },
  {
   "cell_type": "code",
   "execution_count": null,
   "id": "f6a6b05c-3ea1-4497-a3a5-c65b9e775bea",
   "metadata": {},
   "outputs": [],
   "source": [
    "import yfinance\n",
    "import numpy as np\n",
    "import pandas as pd\n",
    "import pandas\n",
    "import yfinance as yf\n",
    "from pandas_datareader import data as pdr\n",
    "yf.pdr_override()\n",
    "\n",
    "import cufflinks as cf\n",
    "cf.set_config_file(offline=True)\n",
    "\n",
    "import warnings\n",
    "warnings.filterwarnings(\"ignore\")\n"
   ]
  },
  {
   "cell_type": "code",
   "execution_count": null,
   "id": "de4667a7-acd1-4a48-86e2-5fcae1441c7e",
   "metadata": {},
   "outputs": [],
   "source": [
    "from ActMng import AccountManager"
   ]
  },
  {
   "cell_type": "code",
   "execution_count": null,
   "id": "e9f4a9c8-9fd9-4e41-8690-28d5096ec77e",
   "metadata": {},
   "outputs": [],
   "source": [
    "starting_capital = 100000\n",
    "allocation = 0.8\n",
    "\n",
    "symbol = 'SPY'\n",
    "\n",
    "long_trend_days = 12\n",
    "short_trend_days = 6"
   ]
  },
  {
   "cell_type": "code",
   "execution_count": null,
   "id": "b5488c39-a6f2-48d1-b559-32b15ffef889",
   "metadata": {},
   "outputs": [],
   "source": [
    "def fetch_data(symbol:str='SPY', start_date:str='2020', end_date:str=None):\n",
    "    \n",
    "    if end_date is None:\n",
    "        end = pandas.Timestamp.now()\n",
    "    else:\n",
    "        end = end_date\n",
    "    \n",
    "    return pdr.get_data_yahoo(symbol, pandas.Timestamp(start_date), pandas.Timestamp(end))[['Open','Close']]\n",
    "df = fetch_data(symbol)"
   ]
  },
  {
   "cell_type": "code",
   "execution_count": null,
   "id": "34320fbf-0386-484d-a314-efe7be6c78fc",
   "metadata": {},
   "outputs": [],
   "source": [
    "fast_trend = df.Open.rolling(window=short_trend_days).mean()\n",
    "slow_trend = df.Open.rolling(window=long_trend_days).mean()\n",
    "\n",
    "df['ma_fast'] = fast_trend\n",
    "df['ma_slow'] = slow_trend\n",
    "df[['Close','ma_fast','ma_slow']].iplot()"
   ]
  },
  {
   "cell_type": "code",
   "execution_count": null,
   "id": "33ae9d4a-c394-4bb6-92d0-0947e4c5641b",
   "metadata": {},
   "outputs": [],
   "source": [
    "df['trade_direction'] = np.sign(fast_trend-slow_trend)\n",
    "df"
   ]
  },
  {
   "cell_type": "code",
   "execution_count": null,
   "id": "494c4fd6-ec2d-4d80-a67b-f7b98f0c388d",
   "metadata": {},
   "outputs": [],
   "source": [
    "#Determine the direction of the moving average differences\n",
    "df_trades = df['trade_direction'].dropna().diff().dropna().apply(np.sign).astype('int8')\n",
    "df_trades = pandas.DataFrame(df_trades[df_trades !=0])\n",
    "\n",
    "#Label our intended trades\n",
    "df_trades['trade'] = df['trade_direction'].map({1:'Long',-1:'Short'})\n",
    "df['trades'] = df_trades['trade']\n"
   ]
  },
  {
   "cell_type": "code",
   "execution_count": null,
   "id": "2aab4ac5-7dec-4519-8aad-cde3cdbb7959",
   "metadata": {},
   "outputs": [],
   "source": [
    "#Label our opening trade after removing our window period\n",
    "df['trades'].replace(pandas.np.NaN,'None',inplace=True)\n",
    "df = df.dropna()\n",
    "df['trades'].iloc[0]=('Long' if df['trade_direction'].iloc[0]==1.0 else 'Short')\n",
    "df"
   ]
  },
  {
   "cell_type": "code",
   "execution_count": null,
   "id": "2c017987-4cbb-40e9-88cc-4934774d910c",
   "metadata": {},
   "outputs": [],
   "source": [
    "# Our trading strategy implementation - feel free to brose ActMng.py if you are curious.\n",
    "trading_strategy = AccountManager(symbol=symbol,trades_df=df,starting_capital=starting_capital,allocation_amount=allocation)\n",
    "results = trading_strategy.run()"
   ]
  },
  {
   "cell_type": "code",
   "execution_count": null,
   "id": "550ce205-2a4b-4515-ba35-6d0868767489",
   "metadata": {},
   "outputs": [],
   "source": [
    "#Here we can see a day by day breakdown of the account\n",
    "results['result_df']"
   ]
  },
  {
   "cell_type": "code",
   "execution_count": null,
   "id": "4b4a860d-07a7-4ecc-bf63-6aa05f2cc34d",
   "metadata": {},
   "outputs": [],
   "source": [
    "# Here are our simulated orders as we would submit to an API endpoint for algorthmic trading. \n",
    "results['broker_orders']"
   ]
  },
  {
   "cell_type": "code",
   "execution_count": null,
   "id": "27a9f830-bdb6-4f34-aa45-a30f9158a2eb",
   "metadata": {},
   "outputs": [],
   "source": [
    "#Todo:\n",
    "# Calculate the Absolute Return of our trend-following trading strategy\n",
    "absolute_return_tf = #Todo\n",
    "\n",
    "# Calculate the CAGR or our trend-following trading strategy\n",
    "CAGR_tf = #Todo\n",
    "\n",
    "# Calculate the IR (Sharpe without RF-rate) of our trend-following trading strategy\n",
    "information_ratio_tf = #Todo\n",
    "\n",
    "#Plot the equity curve (hint: use 'account_val')\n",
    "# Todo"
   ]
  },
  {
   "cell_type": "code",
   "execution_count": null,
   "id": "6b3a25a4-4585-45e5-b468-47a87a2d48ff",
   "metadata": {},
   "outputs": [],
   "source": [
    "#Todo:\n",
    "# Calculate the Absolute Return of a buy-and-hold strategy in the same period\n",
    "absolute_return_bh = #Todo\n",
    "# Calculate the CAGR or our trend-following trading strategy\n",
    "CAGR_bh = #Todo\n",
    "# Calculate the IR (Sharpe without RF-rate) of our trend-following trading strategy\n",
    "information_ratio_bh = #Todo\n",
    "\n",
    "#Plot the equity curve (hint: use 'close' returns and your initial capital value to generate an equity curve)\n",
    "# Todo"
   ]
  },
  {
   "cell_type": "code",
   "execution_count": null,
   "id": "422032a2-2266-4316-b196-cb55d5746b6e",
   "metadata": {},
   "outputs": [],
   "source": [
    "#Todo - optional, below:\n",
    "# Copy any of the code from above to new cells below, and see how changing the symbol, dates and trend parameters changes the performance\n",
    "# Can you beat the reference implementation?"
   ]
  }
 ],
 "metadata": {
  "kernelspec": {
   "display_name": "Python 3",
   "language": "python",
   "name": "python3"
  },
  "language_info": {
   "codemirror_mode": {
    "name": "ipython",
    "version": 3
   },
   "file_extension": ".py",
   "mimetype": "text/x-python",
   "name": "python",
   "nbconvert_exporter": "python",
   "pygments_lexer": "ipython3",
   "version": "3.8.8"
  }
 },
 "nbformat": 4,
 "nbformat_minor": 5
}
