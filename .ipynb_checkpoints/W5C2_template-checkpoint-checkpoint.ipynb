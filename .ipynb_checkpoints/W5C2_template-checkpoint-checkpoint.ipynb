{
  "nbformat": 4,
  "nbformat_minor": 5,
  "metadata": {
    "kernelspec": {
      "display_name": "Python 3",
      "language": "python",
      "name": "python3"
    },
    "language_info": {
      "codemirror_mode": {
        "name": "ipython",
        "version": 3
      },
      "file_extension": ".py",
      "mimetype": "text/x-python",
      "name": "python",
      "nbconvert_exporter": "python",
      "pygments_lexer": "ipython3",
      "version": "3.8.8"
    },
    "colab": {
      "name": "W5C2_template-checkpoint-checkpoint.ipynb",
      "provenance": []
    }
  },
  "cells": [
    {
      "cell_type": "code",
      "metadata": {
        "id": "340fc877-2a30-4131-a7fd-8d6ee02b3b7c",
        "outputId": "c7642823-548d-4c28-e266-93f0cd1be1f1",
        "colab": {
          "base_uri": "https://localhost:8080/"
        }
      },
      "source": [
        "!pip install yfinance"
      ],
      "id": "340fc877-2a30-4131-a7fd-8d6ee02b3b7c",
      "execution_count": 1,
      "outputs": [
        {
          "output_type": "stream",
          "name": "stdout",
          "text": [
            "Requirement already satisfied: yfinance in /usr/local/lib/python3.7/dist-packages (0.1.64)\n",
            "Requirement already satisfied: requests>=2.20 in /usr/local/lib/python3.7/dist-packages (from yfinance) (2.23.0)\n",
            "Requirement already satisfied: numpy>=1.15 in /usr/local/lib/python3.7/dist-packages (from yfinance) (1.19.5)\n",
            "Requirement already satisfied: pandas>=0.24 in /usr/local/lib/python3.7/dist-packages (from yfinance) (1.1.5)\n",
            "Requirement already satisfied: multitasking>=0.0.7 in /usr/local/lib/python3.7/dist-packages (from yfinance) (0.0.9)\n",
            "Requirement already satisfied: lxml>=4.5.1 in /usr/local/lib/python3.7/dist-packages (from yfinance) (4.6.4)\n",
            "Requirement already satisfied: python-dateutil>=2.7.3 in /usr/local/lib/python3.7/dist-packages (from pandas>=0.24->yfinance) (2.8.2)\n",
            "Requirement already satisfied: pytz>=2017.2 in /usr/local/lib/python3.7/dist-packages (from pandas>=0.24->yfinance) (2018.9)\n",
            "Requirement already satisfied: six>=1.5 in /usr/local/lib/python3.7/dist-packages (from python-dateutil>=2.7.3->pandas>=0.24->yfinance) (1.15.0)\n",
            "Requirement already satisfied: urllib3!=1.25.0,!=1.25.1,<1.26,>=1.21.1 in /usr/local/lib/python3.7/dist-packages (from requests>=2.20->yfinance) (1.24.3)\n",
            "Requirement already satisfied: chardet<4,>=3.0.2 in /usr/local/lib/python3.7/dist-packages (from requests>=2.20->yfinance) (3.0.4)\n",
            "Requirement already satisfied: idna<3,>=2.5 in /usr/local/lib/python3.7/dist-packages (from requests>=2.20->yfinance) (2.10)\n",
            "Requirement already satisfied: certifi>=2017.4.17 in /usr/local/lib/python3.7/dist-packages (from requests>=2.20->yfinance) (2021.10.8)\n"
          ]
        }
      ]
    },
    {
      "cell_type": "code",
      "metadata": {
        "id": "f6a6b05c-3ea1-4497-a3a5-c65b9e775bea",
        "outputId": "fe8f5adc-277d-4778-a77e-0fd2d2a6871b",
        "colab": {
          "base_uri": "https://localhost:8080/",
          "height": 16
        }
      },
      "source": [
        "import yfinance\n",
        "import numpy as np\n",
        "import pandas as pd\n",
        "import pandas\n",
        "import yfinance as yf\n",
        "from pandas_datareader import data as pdr\n",
        "yf.pdr_override()\n",
        "\n",
        "import cufflinks as cf\n",
        "cf.set_config_file(offline=True)\n",
        "\n",
        "import warnings\n",
        "warnings.filterwarnings(\"ignore\")\n"
      ],
      "id": "f6a6b05c-3ea1-4497-a3a5-c65b9e775bea",
      "execution_count": 2,
      "outputs": [
        {
          "output_type": "display_data",
          "data": {
            "text/html": [
              "        <script type=\"text/javascript\">\n",
              "        window.PlotlyConfig = {MathJaxConfig: 'local'};\n",
              "        if (window.MathJax) {MathJax.Hub.Config({SVG: {font: \"STIX-Web\"}});}\n",
              "        if (typeof require !== 'undefined') {\n",
              "        require.undef(\"plotly\");\n",
              "        requirejs.config({\n",
              "            paths: {\n",
              "                'plotly': ['https://cdn.plot.ly/plotly-latest.min']\n",
              "            }\n",
              "        });\n",
              "        require(['plotly'], function(Plotly) {\n",
              "            window._Plotly = Plotly;\n",
              "        });\n",
              "        }\n",
              "        </script>\n",
              "        "
            ]
          },
          "metadata": {}
        },
        {
          "output_type": "display_data",
          "data": {
            "text/html": [
              "        <script type=\"text/javascript\">\n",
              "        window.PlotlyConfig = {MathJaxConfig: 'local'};\n",
              "        if (window.MathJax) {MathJax.Hub.Config({SVG: {font: \"STIX-Web\"}});}\n",
              "        if (typeof require !== 'undefined') {\n",
              "        require.undef(\"plotly\");\n",
              "        requirejs.config({\n",
              "            paths: {\n",
              "                'plotly': ['https://cdn.plot.ly/plotly-latest.min']\n",
              "            }\n",
              "        });\n",
              "        require(['plotly'], function(Plotly) {\n",
              "            window._Plotly = Plotly;\n",
              "        });\n",
              "        }\n",
              "        </script>\n",
              "        "
            ]
          },
          "metadata": {}
        }
      ]
    },
    {
      "cell_type": "code",
      "metadata": {
        "id": "nFhCwPdO4YlC",
        "outputId": "bf3ab07b-ec8f-4648-e5ba-007061815ff6",
        "colab": {
          "base_uri": "https://localhost:8080/"
        }
      },
      "source": [
        "! curl https://raw.githubusercontent.com/Alaa-alsulaiman/Week_5/main/ActMng-checkpoint.py --output ActMng.py"
      ],
      "id": "nFhCwPdO4YlC",
      "execution_count": 3,
      "outputs": [
        {
          "output_type": "stream",
          "name": "stdout",
          "text": [
            "  % Total    % Received % Xferd  Average Speed   Time    Time     Time  Current\n",
            "                                 Dload  Upload   Total   Spent    Left  Speed\n",
            "\r  0     0    0     0    0     0      0      0 --:--:-- --:--:-- --:--:--     0\r100  5849  100  5849    0     0  24472      0 --:--:-- --:--:-- --:--:-- 24370\r100  5849  100  5849    0     0  24472      0 --:--:-- --:--:-- --:--:-- 24370\n"
          ]
        }
      ]
    },
    {
      "cell_type": "code",
      "metadata": {
        "id": "de4667a7-acd1-4a48-86e2-5fcae1441c7e"
      },
      "source": [
        "from ActMng import AccountManager"
      ],
      "id": "de4667a7-acd1-4a48-86e2-5fcae1441c7e",
      "execution_count": 4,
      "outputs": []
    },
    {
      "cell_type": "code",
      "metadata": {
        "id": "e9f4a9c8-9fd9-4e41-8690-28d5096ec77e"
      },
      "source": [
        "starting_capital = 100000\n",
        "allocation = 0.8\n",
        "\n",
        "symbol = 'SPY'\n",
        "\n",
        "long_trend_days = 12\n",
        "short_trend_days = 6"
      ],
      "id": "e9f4a9c8-9fd9-4e41-8690-28d5096ec77e",
      "execution_count": 5,
      "outputs": []
    },
    {
      "cell_type": "code",
      "metadata": {
        "id": "b5488c39-a6f2-48d1-b559-32b15ffef889",
        "outputId": "d2d52465-81f4-428b-e064-c9524a13e584",
        "colab": {
          "base_uri": "https://localhost:8080/"
        }
      },
      "source": [
        "def fetch_data(symbol:str='SPY', start_date:str='2020', end_date:str=None):\n",
        "    \n",
        "    if end_date is None:\n",
        "        end = pandas.Timestamp.now()\n",
        "    else:\n",
        "        end = end_date\n",
        "    \n",
        "    return pdr.get_data_yahoo(symbol, pandas.Timestamp(start_date), pandas.Timestamp(end))[['Open','Close']]\n",
        "df = fetch_data(symbol)"
      ],
      "id": "b5488c39-a6f2-48d1-b559-32b15ffef889",
      "execution_count": 6,
      "outputs": [
        {
          "output_type": "stream",
          "name": "stdout",
          "text": [
            "\r[*********************100%***********************]  1 of 1 completed\n"
          ]
        }
      ]
    },
    {
      "cell_type": "code",
      "metadata": {
        "id": "34320fbf-0386-484d-a314-efe7be6c78fc",
        "outputId": "07d5903b-2de0-497b-ffc9-0fe7fef0d5bd",
        "colab": {
          "base_uri": "https://localhost:8080/",
          "height": 294
        }
      },
      "source": [
        "fast_trend = df.Open.rolling(window=short_trend_days).mean()\n",
        "slow_trend = df.Open.rolling(window=long_trend_days).mean()\n",
        "\n",
        "df['ma_fast'] = fast_trend\n",
        "df['ma_slow'] = slow_trend\n",
        "df[['Close','ma_fast','ma_slow']].plot()"
      ],
      "id": "34320fbf-0386-484d-a314-efe7be6c78fc",
      "execution_count": 7,
      "outputs": [
        {
          "output_type": "execute_result",
          "data": {
            "text/plain": [
              "<matplotlib.axes._subplots.AxesSubplot at 0x7f30827d4150>"
            ]
          },
          "metadata": {},
          "execution_count": 7
        },
        {
          "output_type": "display_data",
          "data": {
            "image/png": "[encoded data removed]",
            "text/plain": [
              "<Figure size 432x288 with 1 Axes>"
            ]
          },
          "metadata": {
            "needs_background": "light"
          }
        }
      ]
    },
    {
      "cell_type": "code",
      "metadata": {
        "id": "33ae9d4a-c394-4bb6-92d0-0947e4c5641b",
        "outputId": "24ababf3-d6cb-4e39-ecb8-6db657c6da9b",
        "colab": {
          "base_uri": "https://localhost:8080/",
          "height": 447
        }
      },
      "source": [
        "df['trade_direction'] = np.sign(fast_trend-slow_trend)\n",
        "df"
      ],
      "id": "33ae9d4a-c394-4bb6-92d0-0947e4c5641b",
      "execution_count": 8,
      "outputs": [
        {
          "output_type": "execute_result",
          "data": {
            "text/html": [
              "<div>\n",
              "<style scoped>\n",
              "    .dataframe tbody tr th:only-of-type {\n",
              "        vertical-align: middle;\n",
              "    }\n",
              "\n",
              "    .dataframe tbody tr th {\n",
              "        vertical-align: top;\n",
              "    }\n",
              "\n",
              "    .dataframe thead th {\n",
              "        text-align: right;\n",
              "    }\n",
              "</style>\n",
              "<table border=\"1\" class=\"dataframe\">\n",
              "  <thead>\n",
              "    <tr style=\"text-align: right;\">\n",
              "      <th></th>\n",
              "      <th>Open</th>\n",
              "      <th>Close</th>\n",
              "      <th>ma_fast</th>\n",
              "      <th>ma_slow</th>\n",
              "      <th>trade_direction</th>\n",
              "    </tr>\n",
              "    <tr>\n",
              "      <th>Date</th>\n",
              "      <th></th>\n",
              "      <th></th>\n",
              "      <th></th>\n",
              "      <th></th>\n",
              "      <th></th>\n",
              "    </tr>\n",
              "  </thead>\n",
              "  <tbody>\n",
              "    <tr>\n",
              "      <th>2020-01-02</th>\n",
              "      <td>323.540009</td>\n",
              "      <td>324.869995</td>\n",
              "      <td>NaN</td>\n",
              "      <td>NaN</td>\n",
              "      <td>NaN</td>\n",
              "    </tr>\n",
              "    <tr>\n",
              "      <th>2020-01-03</th>\n",
              "      <td>321.160004</td>\n",
              "      <td>322.410004</td>\n",
              "      <td>NaN</td>\n",
              "      <td>NaN</td>\n",
              "      <td>NaN</td>\n",
              "    </tr>\n",
              "    <tr>\n",
              "      <th>2020-01-06</th>\n",
              "      <td>320.489990</td>\n",
              "      <td>323.640015</td>\n",
              "      <td>NaN</td>\n",
              "      <td>NaN</td>\n",
              "      <td>NaN</td>\n",
              "    </tr>\n",
              "    <tr>\n",
              "      <th>2020-01-07</th>\n",
              "      <td>323.019989</td>\n",
              "      <td>322.730011</td>\n",
              "      <td>NaN</td>\n",
              "      <td>NaN</td>\n",
              "      <td>NaN</td>\n",
              "    </tr>\n",
              "    <tr>\n",
              "      <th>2020-01-08</th>\n",
              "      <td>322.940002</td>\n",
              "      <td>324.450012</td>\n",
              "      <td>NaN</td>\n",
              "      <td>NaN</td>\n",
              "      <td>NaN</td>\n",
              "    </tr>\n",
              "    <tr>\n",
              "      <th>...</th>\n",
              "      <td>...</td>\n",
              "      <td>...</td>\n",
              "      <td>...</td>\n",
              "      <td>...</td>\n",
              "      <td>...</td>\n",
              "    </tr>\n",
              "    <tr>\n",
              "      <th>2021-11-05</th>\n",
              "      <td>469.279999</td>\n",
              "      <td>468.529999</td>\n",
              "      <td>462.054993</td>\n",
              "      <td>458.384997</td>\n",
              "      <td>1.0</td>\n",
              "    </tr>\n",
              "    <tr>\n",
              "      <th>2021-11-08</th>\n",
              "      <td>469.700012</td>\n",
              "      <td>468.929993</td>\n",
              "      <td>464.359996</td>\n",
              "      <td>459.879166</td>\n",
              "      <td>1.0</td>\n",
              "    </tr>\n",
              "    <tr>\n",
              "      <th>2021-11-09</th>\n",
              "      <td>469.320007</td>\n",
              "      <td>467.380005</td>\n",
              "      <td>465.863332</td>\n",
              "      <td>461.228333</td>\n",
              "      <td>1.0</td>\n",
              "    </tr>\n",
              "    <tr>\n",
              "      <th>2021-11-10</th>\n",
              "      <td>465.579987</td>\n",
              "      <td>463.619995</td>\n",
              "      <td>466.756663</td>\n",
              "      <td>462.169998</td>\n",
              "      <td>1.0</td>\n",
              "    </tr>\n",
              "    <tr>\n",
              "      <th>2021-11-11</th>\n",
              "      <td>465.209991</td>\n",
              "      <td>464.880005</td>\n",
              "      <td>467.408330</td>\n",
              "      <td>462.837496</td>\n",
              "      <td>1.0</td>\n",
              "    </tr>\n",
              "  </tbody>\n",
              "</table>\n",
              "<p>471 rows × 5 columns</p>\n",
              "</div>"
            ],
            "text/plain": [
              "                  Open       Close     ma_fast     ma_slow  trade_direction\n",
              "Date                                                                       \n",
              "2020-01-02  323.540009  324.869995         NaN         NaN              NaN\n",
              "2020-01-03  321.160004  322.410004         NaN         NaN              NaN\n",
              "2020-01-06  320.489990  323.640015         NaN         NaN              NaN\n",
              "2020-01-07  323.019989  322.730011         NaN         NaN              NaN\n",
              "2020-01-08  322.940002  324.450012         NaN         NaN              NaN\n",
              "...                ...         ...         ...         ...              ...\n",
              "2021-11-05  469.279999  468.529999  462.054993  458.384997              1.0\n",
              "2021-11-08  469.700012  468.929993  464.359996  459.879166              1.0\n",
              "2021-11-09  469.320007  467.380005  465.863332  461.228333              1.0\n",
              "2021-11-10  465.579987  463.619995  466.756663  462.169998              1.0\n",
              "2021-11-11  465.209991  464.880005  467.408330  462.837496              1.0\n",
              "\n",
              "[471 rows x 5 columns]"
            ]
          },
          "metadata": {},
          "execution_count": 8
        }
      ]
    },
    {
      "cell_type": "code",
      "metadata": {
        "id": "494c4fd6-ec2d-4d80-a67b-f7b98f0c388d"
      },
      "source": [
        "#Determine the direction of the moving average differences\n",
        "df_trades = df['trade_direction'].dropna().diff().dropna().apply(np.sign).astype('int8')\n",
        "df_trades = pandas.DataFrame(df_trades[df_trades !=0])\n",
        "\n",
        "#Label our intended trades\n",
        "df_trades['trade'] = df['trade_direction'].map({1:'Long',-1:'Short'})\n",
        "df['trades'] = df_trades['trade']\n"
      ],
      "id": "494c4fd6-ec2d-4d80-a67b-f7b98f0c388d",
      "execution_count": 9,
      "outputs": []
    },
    {
      "cell_type": "code",
      "metadata": {
        "id": "2aab4ac5-7dec-4519-8aad-cde3cdbb7959",
        "outputId": "a6dd704a-79ea-45e3-e8dc-29c9b6451cfb",
        "colab": {
          "base_uri": "https://localhost:8080/",
          "height": 447
        }
      },
      "source": [
        "#Label our opening trade after removing our window period\n",
        "df['trades'].replace(pandas.np.NaN,'None',inplace=True)\n",
        "df = df.dropna()\n",
        "df['trades'].iloc[0]=('Long' if df['trade_direction'].iloc[0]==1.0 else 'Short')\n",
        "df"
      ],
      "id": "2aab4ac5-7dec-4519-8aad-cde3cdbb7959",
      "execution_count": 10,
      "outputs": [
        {
          "output_type": "execute_result",
          "data": {
            "text/html": [
              "<div>\n",
              "<style scoped>\n",
              "    .dataframe tbody tr th:only-of-type {\n",
              "        vertical-align: middle;\n",
              "    }\n",
              "\n",
              "    .dataframe tbody tr th {\n",
              "        vertical-align: top;\n",
              "    }\n",
              "\n",
              "    .dataframe thead th {\n",
              "        text-align: right;\n",
              "    }\n",
              "</style>\n",
              "<table border=\"1\" class=\"dataframe\">\n",
              "  <thead>\n",
              "    <tr style=\"text-align: right;\">\n",
              "      <th></th>\n",
              "      <th>Open</th>\n",
              "      <th>Close</th>\n",
              "      <th>ma_fast</th>\n",
              "      <th>ma_slow</th>\n",
              "      <th>trade_direction</th>\n",
              "      <th>trades</th>\n",
              "    </tr>\n",
              "    <tr>\n",
              "      <th>Date</th>\n",
              "      <th></th>\n",
              "      <th></th>\n",
              "      <th></th>\n",
              "      <th></th>\n",
              "      <th></th>\n",
              "      <th></th>\n",
              "    </tr>\n",
              "  </thead>\n",
              "  <tbody>\n",
              "    <tr>\n",
              "      <th>2020-01-17</th>\n",
              "      <td>331.700012</td>\n",
              "      <td>331.950012</td>\n",
              "      <td>328.316676</td>\n",
              "      <td>325.600838</td>\n",
              "      <td>1.0</td>\n",
              "      <td>Long</td>\n",
              "    </tr>\n",
              "    <tr>\n",
              "      <th>2020-01-21</th>\n",
              "      <td>330.899994</td>\n",
              "      <td>331.299988</td>\n",
              "      <td>328.918340</td>\n",
              "      <td>326.214170</td>\n",
              "      <td>1.0</td>\n",
              "      <td>None</td>\n",
              "    </tr>\n",
              "    <tr>\n",
              "      <th>2020-01-22</th>\n",
              "      <td>332.239990</td>\n",
              "      <td>331.339996</td>\n",
              "      <td>329.893336</td>\n",
              "      <td>327.137502</td>\n",
              "      <td>1.0</td>\n",
              "      <td>None</td>\n",
              "    </tr>\n",
              "    <tr>\n",
              "      <th>2020-01-23</th>\n",
              "      <td>330.630005</td>\n",
              "      <td>331.720001</td>\n",
              "      <td>330.420003</td>\n",
              "      <td>327.982503</td>\n",
              "      <td>1.0</td>\n",
              "      <td>None</td>\n",
              "    </tr>\n",
              "    <tr>\n",
              "      <th>2020-01-24</th>\n",
              "      <td>332.440002</td>\n",
              "      <td>328.769989</td>\n",
              "      <td>331.268336</td>\n",
              "      <td>328.767504</td>\n",
              "      <td>1.0</td>\n",
              "      <td>None</td>\n",
              "    </tr>\n",
              "    <tr>\n",
              "      <th>...</th>\n",
              "      <td>...</td>\n",
              "      <td>...</td>\n",
              "      <td>...</td>\n",
              "      <td>...</td>\n",
              "      <td>...</td>\n",
              "      <td>...</td>\n",
              "    </tr>\n",
              "    <tr>\n",
              "      <th>2021-11-05</th>\n",
              "      <td>469.279999</td>\n",
              "      <td>468.529999</td>\n",
              "      <td>462.054993</td>\n",
              "      <td>458.384997</td>\n",
              "      <td>1.0</td>\n",
              "      <td>None</td>\n",
              "    </tr>\n",
              "    <tr>\n",
              "      <th>2021-11-08</th>\n",
              "      <td>469.700012</td>\n",
              "      <td>468.929993</td>\n",
              "      <td>464.359996</td>\n",
              "      <td>459.879166</td>\n",
              "      <td>1.0</td>\n",
              "      <td>None</td>\n",
              "    </tr>\n",
              "    <tr>\n",
              "      <th>2021-11-09</th>\n",
              "      <td>469.320007</td>\n",
              "      <td>467.380005</td>\n",
              "      <td>465.863332</td>\n",
              "      <td>461.228333</td>\n",
              "      <td>1.0</td>\n",
              "      <td>None</td>\n",
              "    </tr>\n",
              "    <tr>\n",
              "      <th>2021-11-10</th>\n",
              "      <td>465.579987</td>\n",
              "      <td>463.619995</td>\n",
              "      <td>466.756663</td>\n",
              "      <td>462.169998</td>\n",
              "      <td>1.0</td>\n",
              "      <td>None</td>\n",
              "    </tr>\n",
              "    <tr>\n",
              "      <th>2021-11-11</th>\n",
              "      <td>465.209991</td>\n",
              "      <td>464.880005</td>\n",
              "      <td>467.408330</td>\n",
              "      <td>462.837496</td>\n",
              "      <td>1.0</td>\n",
              "      <td>None</td>\n",
              "    </tr>\n",
              "  </tbody>\n",
              "</table>\n",
              "<p>460 rows × 6 columns</p>\n",
              "</div>"
            ],
            "text/plain": [
              "                  Open       Close  ...  trade_direction  trades\n",
              "Date                                ...                         \n",
              "2020-01-17  331.700012  331.950012  ...              1.0    Long\n",
              "2020-01-21  330.899994  331.299988  ...              1.0    None\n",
              "2020-01-22  332.239990  331.339996  ...              1.0    None\n",
              "2020-01-23  330.630005  331.720001  ...              1.0    None\n",
              "2020-01-24  332.440002  328.769989  ...              1.0    None\n",
              "...                ...         ...  ...              ...     ...\n",
              "2021-11-05  469.279999  468.529999  ...              1.0    None\n",
              "2021-11-08  469.700012  468.929993  ...              1.0    None\n",
              "2021-11-09  469.320007  467.380005  ...              1.0    None\n",
              "2021-11-10  465.579987  463.619995  ...              1.0    None\n",
              "2021-11-11  465.209991  464.880005  ...              1.0    None\n",
              "\n",
              "[460 rows x 6 columns]"
            ]
          },
          "metadata": {},
          "execution_count": 10
        }
      ]
    },
    {
      "cell_type": "code",
      "metadata": {
        "id": "2c017987-4cbb-40e9-88cc-4934774d910c"
      },
      "source": [
        "# Our trading strategy implementation - feel free to brose ActMng.py if you are curious.\n",
        "trading_strategy = AccountManager(symbol=symbol,trades_df=df,starting_capital=starting_capital,allocation_amount=allocation)\n",
        "results = trading_strategy.run()"
      ],
      "id": "2c017987-4cbb-40e9-88cc-4934774d910c",
      "execution_count": 11,
      "outputs": []
    },
    {
      "cell_type": "code",
      "metadata": {
        "id": "550ce205-2a4b-4515-ba35-6d0868767489",
        "outputId": "6ac17c62-a0e8-4c76-eea8-3417d03ce892",
        "colab": {
          "base_uri": "https://localhost:8080/",
          "height": 416
        }
      },
      "source": [
        "#Here we can see a day by day breakdown of the account\n",
        "results['result_df']"
      ],
      "id": "550ce205-2a4b-4515-ba35-6d0868767489",
      "execution_count": 12,
      "outputs": [
        {
          "output_type": "execute_result",
          "data": {
            "text/html": [
              "<div>\n",
              "<style scoped>\n",
              "    .dataframe tbody tr th:only-of-type {\n",
              "        vertical-align: middle;\n",
              "    }\n",
              "\n",
              "    .dataframe tbody tr th {\n",
              "        vertical-align: top;\n",
              "    }\n",
              "\n",
              "    .dataframe thead th {\n",
              "        text-align: right;\n",
              "    }\n",
              "</style>\n",
              "<table border=\"1\" class=\"dataframe\">\n",
              "  <thead>\n",
              "    <tr style=\"text-align: right;\">\n",
              "      <th></th>\n",
              "      <th>Open</th>\n",
              "      <th>Close</th>\n",
              "      <th>ma_fast</th>\n",
              "      <th>ma_slow</th>\n",
              "      <th>trade_direction</th>\n",
              "      <th>trades</th>\n",
              "      <th>account_val</th>\n",
              "      <th>cash_bal</th>\n",
              "      <th>position</th>\n",
              "      <th>position_changes</th>\n",
              "      <th>fees</th>\n",
              "    </tr>\n",
              "  </thead>\n",
              "  <tbody>\n",
              "    <tr>\n",
              "      <th>2020-01-17</th>\n",
              "      <td>331.700012</td>\n",
              "      <td>331.950012</td>\n",
              "      <td>328.316676</td>\n",
              "      <td>325.600838</td>\n",
              "      <td>1.0</td>\n",
              "      <td>Long</td>\n",
              "      <td>100059.295000</td>\n",
              "      <td>19999.591056</td>\n",
              "      <td>241.18</td>\n",
              "      <td>241.18</td>\n",
              "      <td>1.0</td>\n",
              "    </tr>\n",
              "    <tr>\n",
              "      <th>2020-01-21</th>\n",
              "      <td>330.899994</td>\n",
              "      <td>331.299988</td>\n",
              "      <td>328.918340</td>\n",
              "      <td>326.214170</td>\n",
              "      <td>1.0</td>\n",
              "      <td>None</td>\n",
              "      <td>99902.522112</td>\n",
              "      <td>19999.591056</td>\n",
              "      <td>241.18</td>\n",
              "      <td>0.00</td>\n",
              "      <td>0.0</td>\n",
              "    </tr>\n",
              "    <tr>\n",
              "      <th>2020-01-22</th>\n",
              "      <td>332.239990</td>\n",
              "      <td>331.339996</td>\n",
              "      <td>329.893336</td>\n",
              "      <td>327.137502</td>\n",
              "      <td>1.0</td>\n",
              "      <td>None</td>\n",
              "      <td>99912.171373</td>\n",
              "      <td>19999.591056</td>\n",
              "      <td>241.18</td>\n",
              "      <td>0.00</td>\n",
              "      <td>0.0</td>\n",
              "    </tr>\n",
              "    <tr>\n",
              "      <th>2020-01-23</th>\n",
              "      <td>330.630005</td>\n",
              "      <td>331.720001</td>\n",
              "      <td>330.420003</td>\n",
              "      <td>327.982503</td>\n",
              "      <td>1.0</td>\n",
              "      <td>None</td>\n",
              "      <td>100003.820950</td>\n",
              "      <td>19999.591056</td>\n",
              "      <td>241.18</td>\n",
              "      <td>0.00</td>\n",
              "      <td>0.0</td>\n",
              "    </tr>\n",
              "    <tr>\n",
              "      <th>2020-01-24</th>\n",
              "      <td>332.440002</td>\n",
              "      <td>328.769989</td>\n",
              "      <td>331.268336</td>\n",
              "      <td>328.767504</td>\n",
              "      <td>1.0</td>\n",
              "      <td>None</td>\n",
              "      <td>99292.337006</td>\n",
              "      <td>19999.591056</td>\n",
              "      <td>241.18</td>\n",
              "      <td>0.00</td>\n",
              "      <td>0.0</td>\n",
              "    </tr>\n",
              "    <tr>\n",
              "      <th>...</th>\n",
              "      <td>...</td>\n",
              "      <td>...</td>\n",
              "      <td>...</td>\n",
              "      <td>...</td>\n",
              "      <td>...</td>\n",
              "      <td>...</td>\n",
              "      <td>...</td>\n",
              "      <td>...</td>\n",
              "      <td>...</td>\n",
              "      <td>...</td>\n",
              "      <td>...</td>\n",
              "    </tr>\n",
              "    <tr>\n",
              "      <th>2021-11-05</th>\n",
              "      <td>469.279999</td>\n",
              "      <td>468.529999</td>\n",
              "      <td>462.054993</td>\n",
              "      <td>458.384997</td>\n",
              "      <td>1.0</td>\n",
              "      <td>None</td>\n",
              "      <td>135753.055913</td>\n",
              "      <td>25559.485500</td>\n",
              "      <td>235.19</td>\n",
              "      <td>0.00</td>\n",
              "      <td>0.0</td>\n",
              "    </tr>\n",
              "    <tr>\n",
              "      <th>2021-11-08</th>\n",
              "      <td>469.700012</td>\n",
              "      <td>468.929993</td>\n",
              "      <td>464.359996</td>\n",
              "      <td>459.879166</td>\n",
              "      <td>1.0</td>\n",
              "      <td>None</td>\n",
              "      <td>135847.130478</td>\n",
              "      <td>25559.485500</td>\n",
              "      <td>235.19</td>\n",
              "      <td>0.00</td>\n",
              "      <td>0.0</td>\n",
              "    </tr>\n",
              "    <tr>\n",
              "      <th>2021-11-09</th>\n",
              "      <td>469.320007</td>\n",
              "      <td>467.380005</td>\n",
              "      <td>465.863332</td>\n",
              "      <td>461.228333</td>\n",
              "      <td>1.0</td>\n",
              "      <td>None</td>\n",
              "      <td>135482.588849</td>\n",
              "      <td>25559.485500</td>\n",
              "      <td>235.19</td>\n",
              "      <td>0.00</td>\n",
              "      <td>0.0</td>\n",
              "    </tr>\n",
              "    <tr>\n",
              "      <th>2021-11-10</th>\n",
              "      <td>465.579987</td>\n",
              "      <td>463.619995</td>\n",
              "      <td>466.756663</td>\n",
              "      <td>462.169998</td>\n",
              "      <td>1.0</td>\n",
              "      <td>None</td>\n",
              "      <td>134598.272152</td>\n",
              "      <td>25559.485500</td>\n",
              "      <td>235.19</td>\n",
              "      <td>0.00</td>\n",
              "      <td>0.0</td>\n",
              "    </tr>\n",
              "    <tr>\n",
              "      <th>2021-11-11</th>\n",
              "      <td>465.209991</td>\n",
              "      <td>464.880005</td>\n",
              "      <td>467.408330</td>\n",
              "      <td>462.837496</td>\n",
              "      <td>1.0</td>\n",
              "      <td>Short</td>\n",
              "      <td>134894.613849</td>\n",
              "      <td>134893.613849</td>\n",
              "      <td>0.00</td>\n",
              "      <td>-235.19</td>\n",
              "      <td>1.0</td>\n",
              "    </tr>\n",
              "  </tbody>\n",
              "</table>\n",
              "<p>460 rows × 11 columns</p>\n",
              "</div>"
            ],
            "text/plain": [
              "                  Open       Close  ...  position_changes  fees\n",
              "2020-01-17  331.700012  331.950012  ...            241.18   1.0\n",
              "2020-01-21  330.899994  331.299988  ...              0.00   0.0\n",
              "2020-01-22  332.239990  331.339996  ...              0.00   0.0\n",
              "2020-01-23  330.630005  331.720001  ...              0.00   0.0\n",
              "2020-01-24  332.440002  328.769989  ...              0.00   0.0\n",
              "...                ...         ...  ...               ...   ...\n",
              "2021-11-05  469.279999  468.529999  ...              0.00   0.0\n",
              "2021-11-08  469.700012  468.929993  ...              0.00   0.0\n",
              "2021-11-09  469.320007  467.380005  ...              0.00   0.0\n",
              "2021-11-10  465.579987  463.619995  ...              0.00   0.0\n",
              "2021-11-11  465.209991  464.880005  ...           -235.19   1.0\n",
              "\n",
              "[460 rows x 11 columns]"
            ]
          },
          "metadata": {},
          "execution_count": 12
        }
      ]
    },
    {
      "cell_type": "code",
      "metadata": {
        "id": "4b4a860d-07a7-4ecc-bf63-6aa05f2cc34d",
        "outputId": "1d86b8a9-ad14-476b-a301-7dfdaa206ef2",
        "colab": {
          "base_uri": "https://localhost:8080/",
          "height": 416
        }
      },
      "source": [
        "# Here are our simulated orders as we would submit to an API endpoint for algorthmic trading. \n",
        "results['broker_orders']"
      ],
      "id": "4b4a860d-07a7-4ecc-bf63-6aa05f2cc34d",
      "execution_count": 13,
      "outputs": [
        {
          "output_type": "execute_result",
          "data": {
            "text/html": [
              "<div>\n",
              "<style scoped>\n",
              "    .dataframe tbody tr th:only-of-type {\n",
              "        vertical-align: middle;\n",
              "    }\n",
              "\n",
              "    .dataframe tbody tr th {\n",
              "        vertical-align: top;\n",
              "    }\n",
              "\n",
              "    .dataframe thead th {\n",
              "        text-align: right;\n",
              "    }\n",
              "</style>\n",
              "<table border=\"1\" class=\"dataframe\">\n",
              "  <thead>\n",
              "    <tr style=\"text-align: right;\">\n",
              "      <th></th>\n",
              "      <th>symbol</th>\n",
              "      <th>date</th>\n",
              "      <th>time</th>\n",
              "      <th>order</th>\n",
              "      <th>order_type</th>\n",
              "      <th>price</th>\n",
              "      <th>size</th>\n",
              "      <th>exchange_fees</th>\n",
              "    </tr>\n",
              "  </thead>\n",
              "  <tbody>\n",
              "    <tr>\n",
              "      <th>2020-01-17</th>\n",
              "      <td>SPY</td>\n",
              "      <td>2020-01-17 00:00:00</td>\n",
              "      <td>At Market Open</td>\n",
              "      <td>BUY</td>\n",
              "      <td>MARKET</td>\n",
              "      <td>331.700012</td>\n",
              "      <td>241.18</td>\n",
              "      <td>1.0</td>\n",
              "    </tr>\n",
              "    <tr>\n",
              "      <th>2020-01-29</th>\n",
              "      <td>SPY</td>\n",
              "      <td>2020-01-29 00:00:00</td>\n",
              "      <td>At Market Open</td>\n",
              "      <td>SELL</td>\n",
              "      <td>MARKET</td>\n",
              "      <td>328.380005</td>\n",
              "      <td>241.18</td>\n",
              "      <td>1.0</td>\n",
              "    </tr>\n",
              "    <tr>\n",
              "      <th>2020-01-29</th>\n",
              "      <td>SPY</td>\n",
              "      <td>2020-01-29 00:00:00</td>\n",
              "      <td>At Market Open</td>\n",
              "      <td>SELL</td>\n",
              "      <td>MARKET</td>\n",
              "      <td>328.380005</td>\n",
              "      <td>241.66</td>\n",
              "      <td>1.0</td>\n",
              "    </tr>\n",
              "    <tr>\n",
              "      <th>2020-02-07</th>\n",
              "      <td>SPY</td>\n",
              "      <td>2020-02-07 00:00:00</td>\n",
              "      <td>At Market Open</td>\n",
              "      <td>BUY</td>\n",
              "      <td>MARKET</td>\n",
              "      <td>332.820007</td>\n",
              "      <td>241.66</td>\n",
              "      <td>1.0</td>\n",
              "    </tr>\n",
              "    <tr>\n",
              "      <th>2020-02-07</th>\n",
              "      <td>SPY</td>\n",
              "      <td>2020-02-07 00:00:00</td>\n",
              "      <td>At Market Open</td>\n",
              "      <td>BUY</td>\n",
              "      <td>MARKET</td>\n",
              "      <td>332.820007</td>\n",
              "      <td>235.86</td>\n",
              "      <td>1.0</td>\n",
              "    </tr>\n",
              "    <tr>\n",
              "      <th>...</th>\n",
              "      <td>...</td>\n",
              "      <td>...</td>\n",
              "      <td>...</td>\n",
              "      <td>...</td>\n",
              "      <td>...</td>\n",
              "      <td>...</td>\n",
              "      <td>...</td>\n",
              "      <td>...</td>\n",
              "    </tr>\n",
              "    <tr>\n",
              "      <th>2021-09-14</th>\n",
              "      <td>SPY</td>\n",
              "      <td>2021-09-14 00:00:00</td>\n",
              "      <td>At Market Open</td>\n",
              "      <td>SELL</td>\n",
              "      <td>MARKET</td>\n",
              "      <td>448.119995</td>\n",
              "      <td>222.78</td>\n",
              "      <td>1.0</td>\n",
              "    </tr>\n",
              "    <tr>\n",
              "      <th>2021-09-14</th>\n",
              "      <td>SPY</td>\n",
              "      <td>2021-09-14 00:00:00</td>\n",
              "      <td>At Market Open</td>\n",
              "      <td>SELL</td>\n",
              "      <td>MARKET</td>\n",
              "      <td>448.119995</td>\n",
              "      <td>222.82</td>\n",
              "      <td>1.0</td>\n",
              "    </tr>\n",
              "    <tr>\n",
              "      <th>2021-10-13</th>\n",
              "      <td>SPY</td>\n",
              "      <td>2021-10-13 00:00:00</td>\n",
              "      <td>At Market Open</td>\n",
              "      <td>BUY</td>\n",
              "      <td>MARKET</td>\n",
              "      <td>434.709991</td>\n",
              "      <td>222.82</td>\n",
              "      <td>1.0</td>\n",
              "    </tr>\n",
              "    <tr>\n",
              "      <th>2021-10-13</th>\n",
              "      <td>SPY</td>\n",
              "      <td>2021-10-13 00:00:00</td>\n",
              "      <td>At Market Open</td>\n",
              "      <td>BUY</td>\n",
              "      <td>MARKET</td>\n",
              "      <td>434.709991</td>\n",
              "      <td>235.19</td>\n",
              "      <td>1.0</td>\n",
              "    </tr>\n",
              "    <tr>\n",
              "      <th>2021-11-11</th>\n",
              "      <td>SPY</td>\n",
              "      <td>2021-11-11 00:00:00</td>\n",
              "      <td>At Market Close</td>\n",
              "      <td>SELL</td>\n",
              "      <td>MARKET</td>\n",
              "      <td>464.880005</td>\n",
              "      <td>235.19</td>\n",
              "      <td>1.0</td>\n",
              "    </tr>\n",
              "  </tbody>\n",
              "</table>\n",
              "<p>66 rows × 8 columns</p>\n",
              "</div>"
            ],
            "text/plain": [
              "           symbol                 date  ...    size exchange_fees\n",
              "2020-01-17    SPY  2020-01-17 00:00:00  ...  241.18           1.0\n",
              "2020-01-29    SPY  2020-01-29 00:00:00  ...  241.18           1.0\n",
              "2020-01-29    SPY  2020-01-29 00:00:00  ...  241.66           1.0\n",
              "2020-02-07    SPY  2020-02-07 00:00:00  ...  241.66           1.0\n",
              "2020-02-07    SPY  2020-02-07 00:00:00  ...  235.86           1.0\n",
              "...           ...                  ...  ...     ...           ...\n",
              "2021-09-14    SPY  2021-09-14 00:00:00  ...  222.78           1.0\n",
              "2021-09-14    SPY  2021-09-14 00:00:00  ...  222.82           1.0\n",
              "2021-10-13    SPY  2021-10-13 00:00:00  ...  222.82           1.0\n",
              "2021-10-13    SPY  2021-10-13 00:00:00  ...  235.19           1.0\n",
              "2021-11-11    SPY  2021-11-11 00:00:00  ...  235.19           1.0\n",
              "\n",
              "[66 rows x 8 columns]"
            ]
          },
          "metadata": {},
          "execution_count": 13
        }
      ]
    },
    {
      "cell_type": "code",
      "metadata": {
        "id": "27a9f830-bdb6-4f34-aa45-a30f9158a2eb",
        "outputId": "f4109a84-ca95-4b62-b6c2-1f08141f6b5f",
        "colab": {
          "base_uri": "https://localhost:8080/",
          "height": 330
        }
      },
      "source": [
        "r_df=results['result_df'] \n",
        "\n",
        "# Calculate the Absolute Return of our trend-following trading strategy\n",
        "absolute_return_tf = (r_df['account_val'].iloc[-1]-starting_capital)/starting_capital\n",
        "print(f\"Absolute_return_tf: %{np.round(absolute_return_tf,2)*100}\")\n",
        "\n",
        "# Calculate the CAGR or our trend-following trading strategy\n",
        "CAGR_tf = ((r_df['account_val'].iloc[-1]/starting_capital)**(252/len(df)))-1\n",
        "print(f\"CAGR_tf : %{np.round(CAGR_tf ,2)*100}\")\n",
        "\n",
        "# Calculate the IR (Sharpe without RF-rate) of our trend-following trading strategy\n",
        "information_ratio_tf =(r_df.account_val.pct_change().mean()/r_df.account_val.pct_change().std())*((252) **0.5)\n",
        "print(f\"information_ratio_tf : {np.round(information_ratio_tf ,4)}\")\n",
        "\n",
        "#Plot the equity curve (hint: use 'account_val')\n",
        "r_df.account_val.plot()"
      ],
      "id": "27a9f830-bdb6-4f34-aa45-a30f9158a2eb",
      "execution_count": 14,
      "outputs": [
        {
          "output_type": "stream",
          "name": "stdout",
          "text": [
            "Absolute_return_tf: %35.0\n",
            "CAGR_tf : %18.0\n",
            "information_ratio_tf : 0.9921\n"
          ]
        },
        {
          "output_type": "execute_result",
          "data": {
            "text/plain": [
              "<matplotlib.axes._subplots.AxesSubplot at 0x7f30821a7c50>"
            ]
          },
          "metadata": {},
          "execution_count": 14
        },
        {
          "output_type": "display_data",
          "data": {
            "image/png": "[encoded data removed]",
            "text/plain": [
              "<Figure size 432x288 with 1 Axes>"
            ]
          },
          "metadata": {
            "needs_background": "light"
          }
        }
      ]
    },
    {
      "cell_type": "code",
      "metadata": {
        "id": "6b3a25a4-4585-45e5-b468-47a87a2d48ff",
        "outputId": "1fa51b7e-68f9-432c-f1f4-dd7147615796",
        "colab": {
          "base_uri": "https://localhost:8080/",
          "height": 330
        }
      },
      "source": [
        "r_df=results['result_df']\n",
        "\n",
        "# Calculate the Absolute Return of a buy-and-hold strategy in the same period\n",
        "absolute_return_bh = ((r_df.iloc[-1].Close - r_df.Open.iloc[0])/r_df.Open.iloc[0])*100\n",
        "print(f\"Absolute_return_bh: %{np.round(absolute_return_bh,2)*100}\")\n",
        "# Calculate the CAGR or our trend-following trading strategy\n",
        "\n",
        "CAGR_bh = ((r_df.Close.iloc[-1]/r_df.Open.iloc[0])**(252/len(df)))-1\n",
        "print(f\"CAGR_bh : %{np.round(CAGR_bh ,2)*100}\")\n",
        "\n",
        "#CAGR_bhr = ((r_df.Close.iloc[-1]/r_df.Open.iloc[0])**(365/(r_df.index[-1] - r_df.index[0]).days))-1\n",
        "#print(f\"CAGR_bhr: %{np.round(CAGR_bhr ,2)*100}\")\n",
        "\n",
        "\n",
        "# Calculate the IR (Sharpe without RF-rate) of our trend-following trading strategy\n",
        "information_ratio_bh = (r_df.Close.pct_change().mean()/r_df.Close.pct_change().std())*((252)**0.5)\n",
        "print(f\"information_ratio_bh : {np.round(information_ratio_bh ,4)}\")\n",
        "\n",
        "\n",
        "#Plot the equity curve (hint: use 'close' returns and your initial capital value to generate an equity curve)\n",
        "#r_df.Close.plot()\n",
        "((r_df.Close.pct_change().dropna()+1).cumprod()*starting_capital).plot()"
      ],
      "id": "6b3a25a4-4585-45e5-b468-47a87a2d48ff",
      "execution_count": 15,
      "outputs": [
        {
          "output_type": "stream",
          "name": "stdout",
          "text": [
            "Absolute_return_bh: %4015.0\n",
            "CAGR_bh : %20.0\n",
            "information_ratio_bh : 0.8364\n"
          ]
        },
        {
          "output_type": "execute_result",
          "data": {
            "text/plain": [
              "<matplotlib.axes._subplots.AxesSubplot at 0x7f308213a110>"
            ]
          },
          "metadata": {},
          "execution_count": 15
        },
        {
          "output_type": "display_data",
          "data": {
            "image/png": "[encoded data removed]",
            "text/plain": [
              "<Figure size 432x288 with 1 Axes>"
            ]
          },
          "metadata": {
            "needs_background": "light"
          }
        }
      ]
    },
    {
      "cell_type": "code",
      "metadata": {
        "id": "422032a2-2266-4316-b196-cb55d5746b6e"
      },
      "source": [
        "#Todo - optional, below:\n",
        "# Copy any of the code from above to new cells below, and see how changing the symbol, dates and trend parameters changes the performance\n",
        "# Can you beat the reference implementation?"
      ],
      "id": "422032a2-2266-4316-b196-cb55d5746b6e",
      "execution_count": 16,
      "outputs": []
    },
    {
      "cell_type": "code",
      "metadata": {
        "id": "hBNkzQNLhS3d"
      },
      "source": [
        "#def optional_objective(symodl=\"aramco\",\n",
        "#allocation = 0.8,\n",
        "#starting_capital = 100000,\n",
        "#long_trend_days = 12,\n",
        "#short_trend_days = 6,\n",
        "#start_date='2020',\n",
        "#end_date= None):\n",
        "\n",
        "\n",
        "\n",
        "#starting_capital = starting_capital \n",
        "\n",
        "#symodl = symodl\n",
        "\n",
        "#allocation = allocation \n",
        "\n",
        "#long_trend_days = long_trend\n",
        "\n",
        "#short_trend_days=short_trend_days\n",
        "\n",
        "#trading_strategy = AccountManager(symbol=symbol,trades_df=df,starting_capital=starting_capital,allocation_amount=allocation)\n",
        "#results = trading_strategy.run()  \n",
        "\n",
        "#r_df=results['result_df'] \n",
        "\n",
        "# Calculate the Absolute Return of our trend-following trading strategy\n",
        "#absolute_return_tf = (r_df['account_val'].iloc[-1]-starting_capital)/starting_capital\n",
        "\n",
        "# Calculate the CAGR or our trend-following trading strategy\n",
        "#CAGR_tf = ((r_df['account_val'].iloc[-1]/starting_capital)**(252/len(df)))-1\n",
        "\n",
        "# Calculate the IR (Sharpe without RF-rate) of our trend-following trading strategy\n",
        "information_ratio_tf =(r_df.account_val.pct_change().mean()/r_df.account_val.pct_change().std())*((252) **0.5)\n",
        "\n",
        "# Calculate the Absolute Return of a buy-and-hold strategy in the same period\n",
        "#absolute_return_bh = ((r_df.iloc[-1].Close - r_df.Open.iloc[0])/r_df.Open.iloc[0])*100\n",
        "\n",
        "\n",
        "# Calculate the CAGR or our trend-following trading strategy\n",
        "#CAGR_bh = ((r_df.Close.iloc[-1]/r_df.Open.iloc[0])**(252/len(df)))-1\n",
        "\n",
        "# Calculate the IR (Sharpe without RF-rate) of our trend-following trading strategy\n",
        "#information_ratio_bh = (r_df.Close.pct_change().mean()/r_df.Close.pct_change().std())*((252)**0.5)\n",
        "\n"
      ],
      "id": "hBNkzQNLhS3d",
      "execution_count": 17,
      "outputs": []
    }
  ]
}